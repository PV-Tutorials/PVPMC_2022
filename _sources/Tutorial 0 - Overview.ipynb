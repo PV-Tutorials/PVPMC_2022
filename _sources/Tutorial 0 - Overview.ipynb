{
 "cells": [
  {
   "cell_type": "markdown",
   "metadata": {
    "slideshow": {
     "slide_type": "slide"
    }
   },
   "source": [
    "![tutorial banner](images/PVLib_PVPMCLogo.PNG)\n",
    "\n",
    "\n",
    "# Welcome! \n",
    "\n",
    "Welcome to the PVPMC 2022 Tutorial: Data and tools to model PV Systems\n",
    "\n",
    "Modeling tools for all aspects of photovoltaic systems are rapidly growing, and there are solutions for many of the things you might want to simulate. Python is becoming one of the scientific languages of choice, and many open-source tools are available for PV modeling. This tutorial will focus on teaching attendees PV modeling in python through the use of PVlib. \n",
    "\n",
    "In this interactive tutorial we will go from getting acquainted with some common data used or measured in pv systems (i.e. weather), to modeling the AC energy output of a single-axis tracker system. This includes learning and simulating sun position, plane of array irradiances, temperature models, single-diode models and more. \n",
    "\n",
    "We will review common vocabulary around python and ``data aggregation`` by hour, week, month, and visualization. \n",
    "\n",
    "The tutorial will present hands-on examples in python, enabled via jupyter notebooks and a Jupyterhub (remote hosted server for jupyter notebooks and python language) so you, the attendee, don’t have to install anything, and can follow along while we go over the theory and code! In case it's not obvious, a computer <b> is </b> required.  \n",
    "\n",
    "The tutorial will wrap up with an overview of other available open-source tools for other aspects of modeling PV systems. \n"
   ]
  },
  {
   "cell_type": "markdown",
   "metadata": {},
   "source": [
    "## More on your teachers:\n",
    "\n",
    "The three of us have ample experience in data, coding, and PV field performance modeling, so we look forward to all of your questions.\n",
    "\n",
    "| | |\n",
    "| --- | :--- |\n",
    "| ![Silvana Ovaitt](images/tutorial_0_silvana.PNG) | <h2>Silvana Ovaitt</h2><br/>I am a research scientist at NREL, focusing mostly on bifacial PV system's performance, and circular economy. Python is my daily bread and butter for data analysis and building tools. Silvana has made substantial contributions to the NREL  [bifacial radiance](https://bifacial-radiance.readthedocs.io/en/latest/) software packages, [bifacialvf pvmismatch](https://github.com/NREL/bifacialvf), and [PV in Circular Economy (PV_ICE)](https://github.com/NREL/PV_ICE) tools. |\n",
    "| ![Kevin Anderson](images/tutorial_0_kevin.PNG) | <h2>Kevin Anderson</h2><br/>I am a research scientist at NREL doing cool stuff! I have contributed to work on slope aware backtracking, clipping loss errors in hourly yield estimates, and am a maintainer for [pvlib python](https://pvlib-python.readthedocs.io/en/stable/) and a frequent contributor to [RdTools](https://rdtools.readthedocs.io/en/stable/). |\n",
    "| ![Mark Mikofski](images/tutorial_0_mark.PNG) | <h2>Mark Mikofski</h2><br/>I am a principal solar engineer at DNV and team lead for special projects in solar energy assessments. I research, analyze, and predict PV system performance, degradation, and reliability. I have contributed to a few Python projects like [pvlib python](https://pvlib-python.readthedocs.io/en/stable/), [PVMismatch](https://sunpower.github.io/PVMismatch/), and [SciPy](https://scipy.org/) |\n"
   ]
  },
  {
   "cell_type": "markdown",
   "metadata": {
    "slideshow": {
     "slide_type": "slide"
    }
   },
   "source": [
    "## Learning Objectives\n",
    "\n",
    "0.  Why Open-Source PV Modelling? \n",
    "1.\tAccess weather data (TMY3), understand irradiance data, and visualize it monthly.\n",
    "2.\tCalculate sun position, plane of array irradiance, and aggregate irradiance data into average daily insolation by month and year.\n",
    "3.\tCalculate module temperature from ambient data. \n",
    "4.\tUse POA and module temperature to forecast a module's performance. \n",
    "5.  Other Tools\n",
    "\n",
    "## Overview\n",
    "The sketch below from [the Sandia PV Performance Modeling Collaborative (PVPMC)](https://pvpmc.sandia.gov/) outlines the topics we will cover in this tutorial:\n",
    "\n",
    "![Overview](images/tutorial_overview.PNG)"
   ]
  },
  {
   "cell_type": "markdown",
   "metadata": {
    "slideshow": {
     "slide_type": "subslide"
    }
   },
   "source": [
    "### Why learn this? \n",
    "\n",
    "PV-lib is a library of algorithms and routines that you might encounter the need to use if you're doing anything PV-modeling related.  It is managed by members of the PV research community, who make sure the formulas and code are not only sleek but accurate. \n",
    "\n",
    "* You want to know the sun position? No need to code from zero the SPA (Solar Position algorithm), it's in PVlib. \n",
    "\n",
    "* You want to reproduce the Sandia-King model to calculate module performance? It's there, also. \n",
    "\n",
    "* You can find the most well-known [models](https://pvpmc.sandia.gov/), as well as recently accepted values and approaches in published PV literature.\n",
    "\n",
    "* We hope adding this tool to your skillset will empower you to do better, faster research with an already solid foundation. Don't reinvent the wheel!"
   ]
  },
  {
   "cell_type": "markdown",
   "metadata": {
    "slideshow": {
     "slide_type": "slide"
    }
   },
   "source": [
    "## How to use this tutorial?\n",
    "\n",
    "This tutorial is a [Jupyter](https://jupyter.org) notebook. Jupyter is a browser based interactive tool that combines text, images, equations, and code that can be shared with others. Please see the setup section in the [README](./README.md) to learn more about how to get started."
   ]
  },
  {
   "cell_type": "markdown",
   "metadata": {
    "slideshow": {
     "slide_type": "slide"
    }
   },
   "source": [
    "## Useful links\n",
    "\n",
    "1. References\n",
    "    * [PVlib Documentation](https://pvlib-python.readthedocs.io/en/stable/)\n",
    "    * [Github Code Repository](https://github.com/pvlib/pvlib-python)\n",
    "2. Ask for help:\n",
    "    * [Use the pvlib-python tag on StackOverflow](https://stackoverflow.com/questions/tagged/pvlib-python)\n",
    "    * [Google Group - Discussions and more!](https://groups.google.com/g/pvlib-python)\n",
    "    * [Open an Issue on the Github Repository](https://github.com/pyvlib/pvlib-python/issues)"
   ]
  },
  {
   "cell_type": "markdown",
   "metadata": {
    "slideshow": {
     "slide_type": "slide"
    }
   },
   "source": [
    "## Tutorial Structure\n",
    "\n",
    "This tutorial is made up of multiple Jupyter Notebooks. These notebooks mix\n",
    "code, text, visualization, and exercises.\n",
    "\n",
    "If you haven't used JupyterLab before, it's similar to the Jupyter Notebook. If\n",
    "you haven't used the Notebook, the quick intro is\n",
    "\n",
    "1. There are two modes: ``command`` and ``edit``\n",
    "\n",
    "1. From ``command`` mode, press `Enter` to edit a cell (like this markdown cell)\n",
    "\n",
    "1. From ``edit`` mode, press `Esc` to change to command mode\n",
    "1. Press `shift+enter` to execute a cell and move to the next cell.\n",
    "1. The toolbar has commands for executing, converting, and creating cells.\n",
    "\n",
    "The layout of the tutorial will be as follows:\n",
    "\n"
   ]
  },
  {
   "cell_type": "code",
   "execution_count": null,
   "metadata": {},
   "outputs": [],
   "source": [
    "# if running on google colab, uncomment the next line and execute this cell to install the dependencies and prevent \"ModuleNotFoundError\" in later cells:\n",
    "# !pip install -r https://raw.githubusercontent.com/PVSC-Python-Tutorials/PVPMC_2022/main/requirements.txt"
   ]
  },
  {
   "cell_type": "markdown",
   "metadata": {
    "slideshow": {
     "slide_type": "slide"
    }
   },
   "source": [
    "## Exercise: Print Hello, world!\n",
    "\n",
    "Each notebook will have exercises for you to solve. You'll be given a blank or\n",
    "partially completed cell, followed by a hidden cell with a solution. For\n",
    "example.\n",
    "\n",
    "Print the text \"Hello, world!\".\n"
   ]
  },
  {
   "cell_type": "code",
   "execution_count": 1,
   "metadata": {
    "slideshow": {
     "slide_type": "subslide"
    }
   },
   "outputs": [
    {
     "name": "stdout",
     "output_type": "stream",
     "text": [
      "Hello, world!\n"
     ]
    }
   ],
   "source": [
    "# Your code here\n",
    "print(\"Hello, world!\")"
   ]
  },
  {
   "cell_type": "markdown",
   "metadata": {},
   "source": [
    "## Exercise 1: Modify to print something else:"
   ]
  },
  {
   "cell_type": "code",
   "execution_count": null,
   "metadata": {},
   "outputs": [],
   "source": [
    "my_string =    # Add your text here. Remember to put it inside of single quotes or double quotes ( \" \" or '' )\n",
    "print(my_string)"
   ]
  },
  {
   "cell_type": "markdown",
   "metadata": {},
   "source": [
    "## Let's go over some Python Concepts\n",
    "\n",
    "(A lot of this examples were shamely taken from https://jckantor.github.io/CBE30338/01.01-Getting-Started-with-Python-and-Jupyter-Notebooks.html :$)\n",
    "\n",
    "\n",
    "## Basic Arithmetic Operations\n",
    "\n",
    "Basic arithmetic operations are built into the Python langauge. Here are some examples. In particular, note that exponentiation is done with the ** operator."
   ]
  },
  {
   "cell_type": "code",
   "execution_count": 2,
   "metadata": {
    "slideshow": {
     "slide_type": "subslide"
    }
   },
   "outputs": [
    {
     "name": "stdout",
     "output_type": "stream",
     "text": [
      "5\n",
      "8\n",
      "0.6666666666666666\n"
     ]
    }
   ],
   "source": [
    "a = 2\n",
    "b = 3\n",
    "print(a + b)\n",
    "print(a ** b)\n",
    "print(a / b)"
   ]
  },
  {
   "cell_type": "markdown",
   "metadata": {},
   "source": [
    "## Python Libraries\n",
    "\n",
    "The Python language has only very basic operations. Most math functions are in various math libraries. The numpy library is convenient library. This next cell shows how to import numpy with the prefix np, then use it to call a common mathematical functions."
   ]
  },
  {
   "cell_type": "code",
   "execution_count": 3,
   "metadata": {},
   "outputs": [
    {
     "name": "stdout",
     "output_type": "stream",
     "text": [
      "3.141592653589793\n",
      "2.718281828459045\n",
      "0.7071067811865476\n",
      "0.7071067811865476\n",
      "0.9999999999999999\n"
     ]
    }
   ],
   "source": [
    "import numpy as np\n",
    "\n",
    "# mathematical constants\n",
    "print(np.pi)\n",
    "print(np.e)\n",
    "\n",
    "# trignometric functions\n",
    "angle = np.pi/4\n",
    "print(np.sin(angle))\n",
    "print(np.cos(angle))\n",
    "print(np.tan(angle))"
   ]
  },
  {
   "cell_type": "markdown",
   "metadata": {},
   "source": [
    "Lists are a versatile way of organizing your data in Python. Here are some examples, more can be found on this Khan Academy video."
   ]
  },
  {
   "cell_type": "code",
   "execution_count": 4,
   "metadata": {},
   "outputs": [
    {
     "data": {
      "text/plain": [
       "[1, 2, 3, 4]"
      ]
     },
     "execution_count": 4,
     "metadata": {},
     "output_type": "execute_result"
    }
   ],
   "source": [
    "xList = [1, 2, 3, 4]\n",
    "xList"
   ]
  },
  {
   "cell_type": "markdown",
   "metadata": {},
   "source": [
    "## Concatenation\n",
    "\n",
    "Concatentation is the operation of joining one list to another."
   ]
  },
  {
   "cell_type": "code",
   "execution_count": 5,
   "metadata": {},
   "outputs": [
    {
     "data": {
      "text/plain": [
       "[1, 2, 3, 4, 5, 6, 7, 8]"
      ]
     },
     "execution_count": 5,
     "metadata": {},
     "output_type": "execute_result"
    }
   ],
   "source": [
    "x = [1, 2, 3, 4];\n",
    "y = [5, 6, 7, 8];\n",
    "\n",
    "x + y"
   ]
  },
  {
   "cell_type": "code",
   "execution_count": 6,
   "metadata": {},
   "outputs": [
    {
     "data": {
      "text/plain": [
       "10"
      ]
     },
     "execution_count": 6,
     "metadata": {},
     "output_type": "execute_result"
    }
   ],
   "source": [
    "np.sum(x)"
   ]
  },
  {
   "cell_type": "markdown",
   "metadata": {},
   "source": [
    "## Loops"
   ]
  },
  {
   "cell_type": "code",
   "execution_count": 7,
   "metadata": {},
   "outputs": [
    {
     "name": "stdout",
     "output_type": "stream",
     "text": [
      "sin(1) =  0.84147\n",
      "sin(2) =  0.90930\n",
      "sin(3) =  0.14112\n",
      "sin(4) = -0.75680\n"
     ]
    }
   ],
   "source": [
    "for x in xList:\n",
    "    print(\"sin({0}) = {1:8.5f}\".format(x,np.sin(x)))"
   ]
  },
  {
   "cell_type": "markdown",
   "metadata": {},
   "source": [
    "## Working with Dictionaries\n",
    "\n",
    "Dictionaries are useful for storing and retrieving data as key-value pairs. For example, here is a short dictionary of molar masses. The keys are molecular formulas, and the values are the corresponding molar masses.\n"
   ]
  },
  {
   "cell_type": "code",
   "execution_count": 8,
   "metadata": {},
   "outputs": [
    {
     "data": {
      "text/plain": [
       "{'Arizona': 16.04, 'California': 30.02, 'Texas': 18.0, 'Colorado': 44.01}"
      ]
     },
     "execution_count": 8,
     "metadata": {},
     "output_type": "execute_result"
    }
   ],
   "source": [
    "States_SolarInstallations2020 = {'Arizona': 16.04, 'California': 30.02, 'Texas':18.00, 'Colorado': 44.01}  # GW\n",
    "States_SolarInstallations2020"
   ]
  },
  {
   "cell_type": "markdown",
   "metadata": {},
   "source": [
    "We can a value to an existing dictionary.\n"
   ]
  },
  {
   "cell_type": "code",
   "execution_count": 9,
   "metadata": {},
   "outputs": [],
   "source": [
    "States_SolarInstallations2020['New Mexico'] = 22.4\n"
   ]
  },
  {
   "cell_type": "markdown",
   "metadata": {},
   "source": [
    "## Plotting\n",
    "\n",
    "Importing the matplotlib.pyplot library gives IPython notebooks plotting functionality very similar to Matlab's. Here are some examples using functions from the"
   ]
  },
  {
   "cell_type": "code",
   "execution_count": 10,
   "metadata": {},
   "outputs": [
    {
     "data": {
      "image/png": "[encoded data removed]",
      "text/plain": [
       "<Figure size 432x288 with 1 Axes>"
      ]
     },
     "metadata": {
      "needs_background": "light"
     },
     "output_type": "display_data"
    }
   ],
   "source": [
    "%matplotlib inline\n",
    "\n",
    "import matplotlib.pyplot as plt\n",
    "import numpy as np\n",
    "\n",
    "x = np.linspace(0,10)\n",
    "y = np.sin(x)\n",
    "z = np.cos(x)\n",
    "\n",
    "plt.plot(x,y,'b',x,z,'r')\n",
    "plt.xlabel('Radians');\n",
    "plt.ylabel('Value');\n",
    "plt.title('Plotting Demonstration')\n",
    "plt.legend(['Sin','Cos'])\n",
    "plt.grid()"
   ]
  },
  {
   "cell_type": "markdown",
   "metadata": {
    "slideshow": {
     "slide_type": "skip"
    }
   },
   "source": [
    "## Going Deeper\n",
    "\n",
    "We've designed the notebooks above to cover the basics of pvlib from beginning\n",
    "to end. To help you go deeper, we've also create a list of notebooks that\n",
    "demonstrate real-world applications of pvlib in a variety of use cases. These\n",
    "need not be explored in any particular sequence, instead they are meant to\n",
    "provide a sampling of what pvlib can be used for.\n",
    "\n",
    "### PVLIB and Weather/Climate Model Data\n",
    "\n",
    "Check out the pvlib python [examples gallery](https://pvlib-python.readthedocs.io/en/stable/gallery/index.html).\n",
    "Start with [Sun path diagram](https://pvlib-python.readthedocs.io/en/stable/gallery/solar-position/plot_sunpath_diagrams.html),\n",
    "then feel free to explore the rest of the notebooks.\n",
    "\n",
    "### Open PV Tools\n",
    "\n",
    "There is a curated list of [open source PV tools](https://openpvtools.readthedocs.io/) from [\"Review of Open Source Tools for PV Modeling\" by Will Holmgren, _et al._ at IEEE 7th World Conference on PV Energy Conversion 2018](http://dx.doi.org/10.1109/PVSC.2018.8548231)."
   ]
  },
  {
   "attachments": {},
   "cell_type": "markdown",
   "metadata": {},
   "source": [
    "# Why Open PV Tools?\n",
    "\n",
    "* \"In 2016, the ``FAIR Guiding Principles for scientific data management and stewardship`` were published in Scientific Data. The authors intended to provide guidelines to improve the Findability, Accessibility, Interoperability, and Reuse of digital assets. \"\n",
    "\n",
    "* Not reinventing the wheel\n",
    "\n",
    "* Increase exposure and Help close the gap of availability of STEM resources for underseved communities\n"
   ]
  },
  {
   "cell_type": "markdown",
   "metadata": {},
   "source": [
    "[![Creative Commons License](https://i.creativecommons.org/l/by/4.0/88x31.png)](http://creativecommons.org/licenses/by/4.0/)\n",
    "\n",
    "This work is licensed under a [Creative Commons Attribution 4.0 International License](http://creativecommons.org/licenses/by/4.0/)."
   ]
  }
 ],
 "metadata": {
  "kernelspec": {
   "display_name": "Python 3 (ipykernel)",
   "language": "python",
   "name": "python3"
  },
  "language_info": {
   "codemirror_mode": {
    "name": "ipython",
    "version": 3
   },
   "file_extension": ".py",
   "mimetype": "text/x-python",
   "name": "python",
   "nbconvert_exporter": "python",
   "pygments_lexer": "ipython3",
   "version": "3.8.8"
  }
 },
 "nbformat": 4,
 "nbformat_minor": 4
}
