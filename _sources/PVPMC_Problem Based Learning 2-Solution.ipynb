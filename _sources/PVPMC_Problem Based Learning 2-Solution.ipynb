{
 "cells": [
  {
   "cell_type": "markdown",
   "id": "8439c511",
   "metadata": {},
   "source": [
    "![tutorial banner](images/PVLib_PVPMCLogo.PNG)\n",
    "\n",
    "\n",
    "# PVPMC Problem Based Learning 2! \n",
    "\n",
    "\n",
    "### Goal: Model the first Scenario of the PVPMC 2021 Modeling Challenge!\n",
    "\n"
   ]
  },
  {
   "cell_type": "code",
   "execution_count": 1,
   "id": "81c8a361",
   "metadata": {},
   "outputs": [],
   "source": [
    "import os  # for getting environment variables\n",
    "import pathlib  # for finding the example dataset\n",
    "import pvlib\n",
    "import pandas as pd  # for data wrangling\n",
    "import matplotlib.pyplot as plt  # for visualization"
   ]
  },
  {
   "cell_type": "code",
   "execution_count": 2,
   "id": "4bf7970d",
   "metadata": {},
   "outputs": [],
   "source": [
    "CECMODS = pvlib.pvsystem.retrieve_sam(name='CECMod')\n",
    "INVERTERS = pvlib.pvsystem.retrieve_sam('CECInverter')\n"
   ]
  },
  {
   "cell_type": "code",
   "execution_count": 3,
   "id": "049c75e2",
   "metadata": {},
   "outputs": [],
   "source": [
    "CECMODS = CECMODS.T"
   ]
  },
  {
   "cell_type": "code",
   "execution_count": 4,
   "id": "61d54a91",
   "metadata": {},
   "outputs": [],
   "source": [
    "modfilter2 = CECMODS.index.str.startswith('Canadian') & CECMODS.index.str.endswith('CS6K_275M')"
   ]
  },
  {
   "cell_type": "code",
   "execution_count": 5,
   "id": "37a0192f",
   "metadata": {},
   "outputs": [
    {
     "data": {
      "text/html": [
       "<div>\n",
       "<style scoped>\n",
       "    .dataframe tbody tr th:only-of-type {\n",
       "        vertical-align: middle;\n",
       "    }\n",
       "\n",
       "    .dataframe tbody tr th {\n",
       "        vertical-align: top;\n",
       "    }\n",
       "\n",
       "    .dataframe thead th {\n",
       "        text-align: right;\n",
       "    }\n",
       "</style>\n",
       "<table border=\"1\" class=\"dataframe\">\n",
       "  <thead>\n",
       "    <tr style=\"text-align: right;\">\n",
       "      <th></th>\n",
       "      <th>Technology</th>\n",
       "      <th>Bifacial</th>\n",
       "      <th>STC</th>\n",
       "      <th>PTC</th>\n",
       "      <th>A_c</th>\n",
       "      <th>Length</th>\n",
       "      <th>Width</th>\n",
       "      <th>N_s</th>\n",
       "      <th>I_sc_ref</th>\n",
       "      <th>V_oc_ref</th>\n",
       "      <th>...</th>\n",
       "      <th>a_ref</th>\n",
       "      <th>I_L_ref</th>\n",
       "      <th>I_o_ref</th>\n",
       "      <th>R_s</th>\n",
       "      <th>R_sh_ref</th>\n",
       "      <th>Adjust</th>\n",
       "      <th>gamma_r</th>\n",
       "      <th>BIPV</th>\n",
       "      <th>Version</th>\n",
       "      <th>Date</th>\n",
       "    </tr>\n",
       "  </thead>\n",
       "  <tbody>\n",
       "    <tr>\n",
       "      <th>Canadian_Solar_Inc__CS6K_275M</th>\n",
       "      <td>Mono-c-Si</td>\n",
       "      <td>0</td>\n",
       "      <td>275.44</td>\n",
       "      <td>249.2</td>\n",
       "      <td>1.621</td>\n",
       "      <td>1.644</td>\n",
       "      <td>0.986</td>\n",
       "      <td>60</td>\n",
       "      <td>9.31</td>\n",
       "      <td>38.3</td>\n",
       "      <td>...</td>\n",
       "      <td>1.560398</td>\n",
       "      <td>9.312997</td>\n",
       "      <td>0.0</td>\n",
       "      <td>0.267742</td>\n",
       "      <td>831.965881</td>\n",
       "      <td>-3.173301</td>\n",
       "      <td>-0.431</td>\n",
       "      <td>N</td>\n",
       "      <td>SAM 2018.11.11 r2</td>\n",
       "      <td>1/3/2019</td>\n",
       "    </tr>\n",
       "  </tbody>\n",
       "</table>\n",
       "<p>1 rows × 25 columns</p>\n",
       "</div>"
      ],
      "text/plain": [
       "                              Technology Bifacial     STC    PTC    A_c  \\\n",
       "Canadian_Solar_Inc__CS6K_275M  Mono-c-Si        0  275.44  249.2  1.621   \n",
       "\n",
       "                              Length  Width N_s I_sc_ref V_oc_ref  ...  \\\n",
       "Canadian_Solar_Inc__CS6K_275M  1.644  0.986  60     9.31     38.3  ...   \n",
       "\n",
       "                                  a_ref   I_L_ref I_o_ref       R_s  \\\n",
       "Canadian_Solar_Inc__CS6K_275M  1.560398  9.312997     0.0  0.267742   \n",
       "\n",
       "                                 R_sh_ref    Adjust gamma_r BIPV  \\\n",
       "Canadian_Solar_Inc__CS6K_275M  831.965881 -3.173301  -0.431    N   \n",
       "\n",
       "                                         Version      Date  \n",
       "Canadian_Solar_Inc__CS6K_275M  SAM 2018.11.11 r2  1/3/2019  \n",
       "\n",
       "[1 rows x 25 columns]"
      ]
     },
     "execution_count": 5,
     "metadata": {},
     "output_type": "execute_result"
    }
   ],
   "source": [
    "CECMODS[modfilter2]"
   ]
  },
  {
   "cell_type": "code",
   "execution_count": 6,
   "id": "0e48a3b3",
   "metadata": {},
   "outputs": [
    {
     "data": {
      "text/html": [
       "<div>\n",
       "<style scoped>\n",
       "    .dataframe tbody tr th:only-of-type {\n",
       "        vertical-align: middle;\n",
       "    }\n",
       "\n",
       "    .dataframe tbody tr th {\n",
       "        vertical-align: top;\n",
       "    }\n",
       "\n",
       "    .dataframe thead th {\n",
       "        text-align: right;\n",
       "    }\n",
       "</style>\n",
       "<table border=\"1\" class=\"dataframe\">\n",
       "  <thead>\n",
       "    <tr style=\"text-align: right;\">\n",
       "      <th></th>\n",
       "      <th>Vac</th>\n",
       "      <th>Pso</th>\n",
       "      <th>Paco</th>\n",
       "      <th>Pdco</th>\n",
       "      <th>Vdco</th>\n",
       "      <th>C0</th>\n",
       "      <th>C1</th>\n",
       "      <th>C2</th>\n",
       "      <th>C3</th>\n",
       "      <th>Pnt</th>\n",
       "      <th>Vdcmax</th>\n",
       "      <th>Idcmax</th>\n",
       "      <th>Mppt_low</th>\n",
       "      <th>Mppt_high</th>\n",
       "      <th>CEC_Date</th>\n",
       "      <th>CEC_Type</th>\n",
       "    </tr>\n",
       "  </thead>\n",
       "  <tbody>\n",
       "    <tr>\n",
       "      <th>SMA_America__STP15000TL_US_10__480V_</th>\n",
       "      <td>480</td>\n",
       "      <td>52.128044</td>\n",
       "      <td>15000.0</td>\n",
       "      <td>15350.119141</td>\n",
       "      <td>675.0</td>\n",
       "      <td>-0.000001</td>\n",
       "      <td>-0.000038</td>\n",
       "      <td>-0.000318</td>\n",
       "      <td>-0.001767</td>\n",
       "      <td>4.5</td>\n",
       "      <td>800.0</td>\n",
       "      <td>22.740917</td>\n",
       "      <td>300.0</td>\n",
       "      <td>800.0</td>\n",
       "      <td>10/15/2018</td>\n",
       "      <td>Utility Interactive</td>\n",
       "    </tr>\n",
       "  </tbody>\n",
       "</table>\n",
       "</div>"
      ],
      "text/plain": [
       "                                      Vac        Pso     Paco          Pdco  \\\n",
       "SMA_America__STP15000TL_US_10__480V_  480  52.128044  15000.0  15350.119141   \n",
       "\n",
       "                                       Vdco        C0        C1        C2  \\\n",
       "SMA_America__STP15000TL_US_10__480V_  675.0 -0.000001 -0.000038 -0.000318   \n",
       "\n",
       "                                            C3  Pnt Vdcmax     Idcmax  \\\n",
       "SMA_America__STP15000TL_US_10__480V_ -0.001767  4.5  800.0  22.740917   \n",
       "\n",
       "                                     Mppt_low Mppt_high    CEC_Date  \\\n",
       "SMA_America__STP15000TL_US_10__480V_    300.0     800.0  10/15/2018   \n",
       "\n",
       "                                                 CEC_Type  \n",
       "SMA_America__STP15000TL_US_10__480V_  Utility Interactive  "
      ]
     },
     "execution_count": 6,
     "metadata": {},
     "output_type": "execute_result"
    }
   ],
   "source": [
    "INVERTERS.T[INVERTERS.T.index.str.startswith('SMA_') & INVERTERS.T.index.str.contains('15000')] \n"
   ]
  },
  {
   "cell_type": "code",
   "execution_count": 8,
   "id": "1ac06918",
   "metadata": {},
   "outputs": [
    {
     "data": {
      "text/plain": [
       "'C:\\\\Users\\\\sayala\\\\Documents\\\\GitHub\\\\PVPMC_2022'"
      ]
     },
     "execution_count": 8,
     "metadata": {},
     "output_type": "execute_result"
    }
   ],
   "source": [
    "pwd"
   ]
  },
  {
   "cell_type": "code",
   "execution_count": 7,
   "id": "d7c67eef",
   "metadata": {},
   "outputs": [
    {
     "ename": "FileNotFoundError",
     "evalue": "[Errno 2] No such file or directory: 'C:\\\\Users\\\\sayala\\\\Anaconda3\\\\lib\\\\site-packages\\\\pvlib\\\\data\\\\TMY3_Albuquerque_NM.CSV'",
     "output_type": "error",
     "traceback": [
      "\u001b[1;31m---------------------------------------------------------------------------\u001b[0m",
      "\u001b[1;31mFileNotFoundError\u001b[0m                         Traceback (most recent call last)",
      "\u001b[1;32m~\\AppData\\Local\\Temp\\1/ipykernel_19464/1807535909.py\u001b[0m in \u001b[0;36m<module>\u001b[1;34m\u001b[0m\n\u001b[0;32m      1\u001b[0m \u001b[0mDATA_DIR\u001b[0m \u001b[1;33m=\u001b[0m \u001b[0mpathlib\u001b[0m\u001b[1;33m.\u001b[0m\u001b[0mPath\u001b[0m\u001b[1;33m(\u001b[0m\u001b[0mpvlib\u001b[0m\u001b[1;33m.\u001b[0m\u001b[0m__file__\u001b[0m\u001b[1;33m)\u001b[0m\u001b[1;33m.\u001b[0m\u001b[0mparent\u001b[0m \u001b[1;33m/\u001b[0m \u001b[1;34m'data'\u001b[0m\u001b[1;33m\u001b[0m\u001b[1;33m\u001b[0m\u001b[0m\n\u001b[0;32m      2\u001b[0m \u001b[1;33m\u001b[0m\u001b[0m\n\u001b[1;32m----> 3\u001b[1;33m \u001b[0mdf_tmy\u001b[0m\u001b[1;33m,\u001b[0m \u001b[0mmeta_dict\u001b[0m \u001b[1;33m=\u001b[0m \u001b[0mpvlib\u001b[0m\u001b[1;33m.\u001b[0m\u001b[0miotools\u001b[0m\u001b[1;33m.\u001b[0m\u001b[0mread_tmy3\u001b[0m\u001b[1;33m(\u001b[0m\u001b[0mDATA_DIR\u001b[0m \u001b[1;33m/\u001b[0m \u001b[1;34m'TMY3_Albuquerque_NM.CSV'\u001b[0m\u001b[1;33m,\u001b[0m \u001b[0mcoerce_year\u001b[0m\u001b[1;33m=\u001b[0m\u001b[1;36m2017\u001b[0m\u001b[1;33m)\u001b[0m\u001b[1;33m\u001b[0m\u001b[1;33m\u001b[0m\u001b[0m\n\u001b[0m\u001b[0;32m      4\u001b[0m \u001b[0mmeta_dict\u001b[0m  \u001b[1;31m# display the dictionary of metadata\u001b[0m\u001b[1;33m\u001b[0m\u001b[1;33m\u001b[0m\u001b[0m\n",
      "\u001b[1;32m~\\Anaconda3\\lib\\site-packages\\pvlib\\iotools\\tmy.py\u001b[0m in \u001b[0;36mread_tmy3\u001b[1;34m(filename, coerce_year, recolumn)\u001b[0m\n\u001b[0;32m    161\u001b[0m     \u001b[0mhead\u001b[0m \u001b[1;33m=\u001b[0m \u001b[1;33m[\u001b[0m\u001b[1;34m'USAF'\u001b[0m\u001b[1;33m,\u001b[0m \u001b[1;34m'Name'\u001b[0m\u001b[1;33m,\u001b[0m \u001b[1;34m'State'\u001b[0m\u001b[1;33m,\u001b[0m \u001b[1;34m'TZ'\u001b[0m\u001b[1;33m,\u001b[0m \u001b[1;34m'latitude'\u001b[0m\u001b[1;33m,\u001b[0m \u001b[1;34m'longitude'\u001b[0m\u001b[1;33m,\u001b[0m \u001b[1;34m'altitude'\u001b[0m\u001b[1;33m]\u001b[0m\u001b[1;33m\u001b[0m\u001b[1;33m\u001b[0m\u001b[0m\n\u001b[0;32m    162\u001b[0m \u001b[1;33m\u001b[0m\u001b[0m\n\u001b[1;32m--> 163\u001b[1;33m     \u001b[1;32mwith\u001b[0m \u001b[0mopen\u001b[0m\u001b[1;33m(\u001b[0m\u001b[0mstr\u001b[0m\u001b[1;33m(\u001b[0m\u001b[0mfilename\u001b[0m\u001b[1;33m)\u001b[0m\u001b[1;33m,\u001b[0m \u001b[1;34m'r'\u001b[0m\u001b[1;33m)\u001b[0m \u001b[1;32mas\u001b[0m \u001b[0mcsvdata\u001b[0m\u001b[1;33m:\u001b[0m\u001b[1;33m\u001b[0m\u001b[1;33m\u001b[0m\u001b[0m\n\u001b[0m\u001b[0;32m    164\u001b[0m         \u001b[1;31m# read in file metadata, advance buffer to second line\u001b[0m\u001b[1;33m\u001b[0m\u001b[1;33m\u001b[0m\u001b[1;33m\u001b[0m\u001b[0m\n\u001b[0;32m    165\u001b[0m         \u001b[0mfirstline\u001b[0m \u001b[1;33m=\u001b[0m \u001b[0mcsvdata\u001b[0m\u001b[1;33m.\u001b[0m\u001b[0mreadline\u001b[0m\u001b[1;33m(\u001b[0m\u001b[1;33m)\u001b[0m\u001b[1;33m\u001b[0m\u001b[1;33m\u001b[0m\u001b[0m\n",
      "\u001b[1;31mFileNotFoundError\u001b[0m: [Errno 2] No such file or directory: 'C:\\\\Users\\\\sayala\\\\Anaconda3\\\\lib\\\\site-packages\\\\pvlib\\\\data\\\\TMY3_Albuquerque_NM.CSV'"
     ]
    }
   ],
   "source": [
    "DATA_DIR = pathlib.Path(pvlib.__file__).parent / 'data'\n",
    "df_tmy, meta_dict = pvlib.iotools.read_tmy3(DATA_DIR / 'TMY3_Albuquerque_NM.CSV', coerce_year=2017)\n",
    "meta_dict  # display the dictionary of metadata"
   ]
  },
  {
   "cell_type": "code",
   "execution_count": 9,
   "id": "4e3d78c4",
   "metadata": {},
   "outputs": [
    {
     "data": {
      "text/plain": [
       "{'USAF': 999999,\n",
       " 'Name': ' ABQ',\n",
       " 'State': ' NM',\n",
       " 'TZ': -7.0,\n",
       " 'latitude': 35.05,\n",
       " 'longitude': -106.64,\n",
       " 'altitude': 1600.0}"
      ]
     },
     "execution_count": 9,
     "metadata": {},
     "output_type": "execute_result"
    }
   ],
   "source": [
    "df_tmy, meta_dict = pvlib.iotools.read_tmy3(r'data/TMY3_Albuquerque_NM.CSV', coerce_year=2017)\n",
    "meta_dict  # display the dictionary of metadata"
   ]
  },
  {
   "cell_type": "code",
   "execution_count": 12,
   "id": "290148fe",
   "metadata": {},
   "outputs": [
    {
     "data": {
      "text/plain": [
       "2"
      ]
     },
     "execution_count": 12,
     "metadata": {},
     "output_type": "execute_result"
    }
   ],
   "source": [
    "import numpy as np\n",
    "np.power(2,1)"
   ]
  },
  {
   "cell_type": "code",
   "execution_count": 10,
   "id": "bd3b4866",
   "metadata": {},
   "outputs": [
    {
     "ename": "NameError",
     "evalue": "name 'TIMES' is not defined",
     "output_type": "error",
     "traceback": [
      "\u001b[1;31m---------------------------------------------------------------------------\u001b[0m",
      "\u001b[1;31mNameError\u001b[0m                                 Traceback (most recent call last)",
      "\u001b[1;32m~\\AppData\\Local\\Temp\\1/ipykernel_19464/545843314.py\u001b[0m in \u001b[0;36m<module>\u001b[1;34m\u001b[0m\n\u001b[1;32m----> 1\u001b[1;33m \u001b[0mdata\u001b[0m\u001b[1;33m.\u001b[0m\u001b[0mindex\u001b[0m \u001b[1;33m=\u001b[0m \u001b[0mTIMES\u001b[0m\u001b[1;33m\u001b[0m\u001b[1;33m\u001b[0m\u001b[0m\n\u001b[0m\u001b[0;32m      2\u001b[0m sp = pvlib.solarposition.get_solarposition(\n\u001b[0;32m      3\u001b[0m         TIMES, LATITUDE, LONGITUDE)\n",
      "\u001b[1;31mNameError\u001b[0m: name 'TIMES' is not defined"
     ]
    }
   ],
   "source": [
    "data.index = TIMES\n",
    "sp = pvlib.solarposition.get_solarposition(\n",
    "        TIMES, LATITUDE, LONGITUDE)"
   ]
  },
  {
   "cell_type": "code",
   "execution_count": null,
   "id": "72b722ca",
   "metadata": {},
   "outputs": [],
   "source": []
  }
 ],
 "metadata": {
  "kernelspec": {
   "display_name": "Python 3 (ipykernel)",
   "language": "python",
   "name": "python3"
  },
  "language_info": {
   "codemirror_mode": {
    "name": "ipython",
    "version": 3
   },
   "file_extension": ".py",
   "mimetype": "text/x-python",
   "name": "python",
   "nbconvert_exporter": "python",
   "pygments_lexer": "ipython3",
   "version": "3.8.8"
  }
 },
 "nbformat": 4,
 "nbformat_minor": 5
}
