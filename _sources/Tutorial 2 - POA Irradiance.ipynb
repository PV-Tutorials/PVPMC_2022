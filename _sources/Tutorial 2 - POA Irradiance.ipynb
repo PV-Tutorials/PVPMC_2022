{
 "cells": [
  {
   "cell_type": "markdown",
   "metadata": {},
   "source": [
    "![tutorial banner](images/PVLib_PVPMCLogo.PNG)\n",
    "\n",
    "\n",
    "# Tutorial 2 - Modeling POA from GHI, DHI, and DNI\n",
    "\n",
    "This notebook shows how to use pvlib to transform the three irradiance components (GHI, DHI, and DNI) into POA irradiance, the main driver of a PV system.\n",
    "\n",
    "![Overview](images/tutorial_2_overview.PNG)\n"
   ]
  },
  {
   "cell_type": "markdown",
   "metadata": {},
   "source": [
    "## Steps:\n",
    "\n",
    "<ol>\n",
    "    <li><a id='step1'>Calculating Solar Position</a></li>\n",
    "    <li><a id='step2'>Fixed Tilt POA </a></li>\n",
    "    <li><a id='step3'>Modeling POA for a tracking system</a></li>\n",
    "</ol>\n",
    "\n",
    "### PV Concepts\n",
    "- Plane of Array Irradiance\n",
    "- Angle of Incidence\n",
    "- Time delta for solar position\n",
    "- GHI vs POA for fixed tilt system and tracked systems\n",
    "\n",
    "### Python Concepts\n",
    "- pandas Timedelta\n",
    "- making a new dataframe from existing columns\n",
    "- resampling\n",
    "- bar ploting"
   ]
  },
  {
   "cell_type": "markdown",
   "metadata": {},
   "source": [
    "### What is transposition?\n",
    "\n",
    "The amount of sunlight collected by a PV panel depends on how well the panel orientation matches incoming sunlight.  For example, a rooftop array facing West will produce hardly any energy in the morning when the sun is in the East because the panel can only \"see\" the dim part of the sky away from the sun.  \n",
    "\n",
    "![Overview](images/t2_solarpanel_directions.PNG)\n",
    "\n",
    "\n",
    "As the sun comes into view and moves towards the center of the panel's field of view, the panel will collect more and more irradiance.  This concept is what defines plane-of-array irradiance -- the amount of sunlight available to be collected at a given panel orientation.  Like the three \"basic\" irradiance components, POA irradiance is measured in watts per square meter."
   ]
  },
  {
   "cell_type": "markdown",
   "metadata": {},
   "source": [
    "\n",
    "\n",
    "Each irradiance component is considered separately when modeling POA irradiance.  For example, calculating the component of direct irradiance (DNI) that is incident on a panel is solved with straightforward geometry based on the angle of incidence.  Finding the POA component of diffuse irradiance (DHI) is more complex and can vary based on atmospheric conditions.  Many models, ranging from simple models with lots of assumptions to strongly empirical models, have been published to transpose DHI into the diffuse POA component.  A third component of POA irradiance is light that reflects off the ground before being collected by the PV panel.  Functions to calculate each of these components are provided by pvlib.\n",
    "\n",
    "\n",
    "![Overview](images/t2_POA.PNG)"
   ]
  },
  {
   "cell_type": "markdown",
   "metadata": {},
   "source": [
    "### How is array orientation defined?\n",
    "\n",
    "Two parameters define the panel orientation, one that measures the cardinal direction (North, East, South, West), and one that measures how high in the sky the panel faces:\n",
    "\n",
    "- tilt; measured in degrees from horizontal.  A flat panel is at tilt=0 and a panel standing on its edge has tilt=90.\n",
    "- azimuth; measured in degrees from North.  The direction along the horizon the panel is facing.  N=0, E=90, S=180, W=270.\n",
    "\n",
    "A fixed array has fixed tilt and azimuth, but a tracker array constantly changes its orientation to best match the sun's position.  So depending on the system configuration, tilt and azimuth may or may not be time series values.\n",
    "\n"
   ]
  },
  {
   "cell_type": "code",
   "execution_count": null,
   "metadata": {},
   "outputs": [],
   "source": [
    "# if running on google colab, uncomment the next line and execute this cell to install the dependencies and prevent \"ModuleNotFoundError\" in later cells:\n",
    "# !pip install -r https://raw.githubusercontent.com/PVSC-Python-Tutorials/PVPMC_2022/main/requirements.txt"
   ]
  },
  {
   "cell_type": "markdown",
   "metadata": {},
   "source": [
    "<a href='#step1'>"
   ]
  },
  {
   "cell_type": "markdown",
   "metadata": {},
   "source": [
    "## 1. Calculating Solar Position\n",
    "\n",
    "As mentioned earlier, pvlib makes it easy to calculate POA irradiance.  First, let's load in the example TMY dataset from the previous tutorial:"
   ]
  },
  {
   "cell_type": "code",
   "execution_count": 1,
   "metadata": {},
   "outputs": [
    {
     "name": "stdout",
     "output_type": "stream",
     "text": [
      "0.9.1\n"
     ]
    }
   ],
   "source": [
    "import pvlib\n",
    "import pandas as pd  # for data wrangling\n",
    "import matplotlib.pyplot as plt  # for visualization\n",
    "import pathlib  # for finding the example dataset\n",
    "\n",
    "print(pvlib.__version__)\n",
    "\n",
    "DATA_DIR = pathlib.Path(pvlib.__file__).parent / 'data'\n",
    "df_tmy, metadata = pvlib.iotools.read_tmy3(DATA_DIR / '723170TYA.CSV', coerce_year=1990)\n",
    "\n",
    "# make a Location object corresponding to this TMY\n",
    "location = pvlib.location.Location(latitude=metadata['latitude'],\n",
    "                                   longitude=metadata['longitude'])"
   ]
  },
  {
   "cell_type": "code",
   "execution_count": 2,
   "metadata": {},
   "outputs": [
    {
     "name": "stdout",
     "output_type": "stream",
     "text": [
      "We are looking at data from  \"GREENSBORO PIEDMONT TRIAD INT\" , NC\n"
     ]
    }
   ],
   "source": [
    "print(\"We are looking at data from \", metadata['Name'], \",\", metadata['State'])"
   ]
  },
  {
   "cell_type": "markdown",
   "metadata": {},
   "source": [
    "Because part of the transposition process requires knowing where the sun is in the sky, let's use pvlib to calculate solar position.  There is a gotcha here!  TMY data represents the average weather conditions across each hour, meaning we need to calculate solar position in the middle of each hour.  pvlib calculates solar position for the exact timestamps you specify, so we need to adjust the times by half an interval (30 minutes):"
   ]
  },
  {
   "cell_type": "code",
   "execution_count": 3,
   "metadata": {},
   "outputs": [
    {
     "data": {
      "text/html": [
       "<div>\n",
       "<style scoped>\n",
       "    .dataframe tbody tr th:only-of-type {\n",
       "        vertical-align: middle;\n",
       "    }\n",
       "\n",
       "    .dataframe tbody tr th {\n",
       "        vertical-align: top;\n",
       "    }\n",
       "\n",
       "    .dataframe thead th {\n",
       "        text-align: right;\n",
       "    }\n",
       "</style>\n",
       "<table border=\"1\" class=\"dataframe\">\n",
       "  <thead>\n",
       "    <tr style=\"text-align: right;\">\n",
       "      <th></th>\n",
       "      <th>apparent_zenith</th>\n",
       "      <th>zenith</th>\n",
       "      <th>apparent_elevation</th>\n",
       "      <th>elevation</th>\n",
       "      <th>azimuth</th>\n",
       "      <th>equation_of_time</th>\n",
       "    </tr>\n",
       "  </thead>\n",
       "  <tbody>\n",
       "    <tr>\n",
       "      <th>1990-01-01 01:00:00-05:00</th>\n",
       "      <td>166.841893</td>\n",
       "      <td>166.841893</td>\n",
       "      <td>-76.841893</td>\n",
       "      <td>-76.841893</td>\n",
       "      <td>6.889661</td>\n",
       "      <td>-3.395097</td>\n",
       "    </tr>\n",
       "    <tr>\n",
       "      <th>1990-01-01 02:00:00-05:00</th>\n",
       "      <td>160.512529</td>\n",
       "      <td>160.512529</td>\n",
       "      <td>-70.512529</td>\n",
       "      <td>-70.512529</td>\n",
       "      <td>52.424214</td>\n",
       "      <td>-3.414863</td>\n",
       "    </tr>\n",
       "    <tr>\n",
       "      <th>1990-01-01 03:00:00-05:00</th>\n",
       "      <td>149.674856</td>\n",
       "      <td>149.674856</td>\n",
       "      <td>-59.674856</td>\n",
       "      <td>-59.674856</td>\n",
       "      <td>73.251821</td>\n",
       "      <td>-3.434619</td>\n",
       "    </tr>\n",
       "    <tr>\n",
       "      <th>1990-01-01 04:00:00-05:00</th>\n",
       "      <td>137.777090</td>\n",
       "      <td>137.777090</td>\n",
       "      <td>-47.777090</td>\n",
       "      <td>-47.777090</td>\n",
       "      <td>85.208599</td>\n",
       "      <td>-3.454365</td>\n",
       "    </tr>\n",
       "    <tr>\n",
       "      <th>1990-01-01 05:00:00-05:00</th>\n",
       "      <td>125.672180</td>\n",
       "      <td>125.672180</td>\n",
       "      <td>-35.672180</td>\n",
       "      <td>-35.672180</td>\n",
       "      <td>94.134730</td>\n",
       "      <td>-3.474102</td>\n",
       "    </tr>\n",
       "  </tbody>\n",
       "</table>\n",
       "</div>"
      ],
      "text/plain": [
       "                           apparent_zenith      zenith  apparent_elevation  \\\n",
       "1990-01-01 01:00:00-05:00       166.841893  166.841893          -76.841893   \n",
       "1990-01-01 02:00:00-05:00       160.512529  160.512529          -70.512529   \n",
       "1990-01-01 03:00:00-05:00       149.674856  149.674856          -59.674856   \n",
       "1990-01-01 04:00:00-05:00       137.777090  137.777090          -47.777090   \n",
       "1990-01-01 05:00:00-05:00       125.672180  125.672180          -35.672180   \n",
       "\n",
       "                           elevation    azimuth  equation_of_time  \n",
       "1990-01-01 01:00:00-05:00 -76.841893   6.889661         -3.395097  \n",
       "1990-01-01 02:00:00-05:00 -70.512529  52.424214         -3.414863  \n",
       "1990-01-01 03:00:00-05:00 -59.674856  73.251821         -3.434619  \n",
       "1990-01-01 04:00:00-05:00 -47.777090  85.208599         -3.454365  \n",
       "1990-01-01 05:00:00-05:00 -35.672180  94.134730         -3.474102  "
      ]
     },
     "execution_count": 3,
     "metadata": {},
     "output_type": "execute_result"
    }
   ],
   "source": [
    "# Note: TMY datasets are right-labeled hourly intervals, e.g. the\n",
    "# 10AM to 11AM interval is labeled 11.  We should calculate solar position in\n",
    "# the middle of the interval (10:30), so we subtract 30 minutes:\n",
    "times = df_tmy.index - pd.Timedelta('30min')\n",
    "solar_position = location.get_solarposition(times)\n",
    "# but remember to shift the index back to line up with the TMY data:\n",
    "solar_position.index += pd.Timedelta('30min')\n",
    "\n",
    "solar_position.head()"
   ]
  },
  {
   "cell_type": "markdown",
   "metadata": {},
   "source": [
    "The two values needed here are the solar zenith (how close the sun is to overhead) and azimuth (what direction along the horizon the sun is, like panel azimuth).  The difference between `apparent_zenith` and `zenith` is that `apparent_zenith` includes the effect of atmospheric refraction.\n",
    "\n",
    "Now that we have a time series of solar position that matches our irradiance data, let's run a transposition model using the convenient wrapper function [`pvlib.irradiance.get_total_irradiance`](https://pvlib-python.readthedocs.io/en/stable/reference/generated/pvlib.irradiance.get_total_irradiance.html). The more complex transposition models like Perez and Hay Davies require additional weather inputs, so for simplicity we'll just use the basic `isotropic` model here, which is the default if nothing is passed for `model` keyword argument.  As an example, we'll model a fixed array tilted south at 20 degrees."
   ]
  },
  {
   "cell_type": "markdown",
   "metadata": {},
   "source": [
    "<a href='#step2'>"
   ]
  },
  {
   "cell_type": "markdown",
   "metadata": {},
   "source": [
    "## 2. Fixed Tilt POA"
   ]
  },
  {
   "cell_type": "code",
   "execution_count": 4,
   "metadata": {},
   "outputs": [],
   "source": [
    "df_poa = pvlib.irradiance.get_total_irradiance(\n",
    "    surface_tilt=20,  # tilted 20 degrees from horizontal\n",
    "    surface_azimuth=180,  # facing South\n",
    "    dni=df_tmy['DNI'],\n",
    "    ghi=df_tmy['GHI'],\n",
    "    dhi=df_tmy['DHI'],\n",
    "    solar_zenith=solar_position['apparent_zenith'],\n",
    "    solar_azimuth=solar_position['azimuth'],\n",
    "    model='isotropic')"
   ]
  },
  {
   "cell_type": "markdown",
   "metadata": {},
   "source": [
    "`get_total_irradiance` returns a DataFrame containing each of the POA components mentioned earlier (direct, diffuse, and ground), along with the total in-plane irradiance.  "
   ]
  },
  {
   "cell_type": "code",
   "execution_count": 5,
   "metadata": {},
   "outputs": [
    {
     "data": {
      "text/plain": [
       "Index(['poa_global', 'poa_direct', 'poa_diffuse', 'poa_sky_diffuse',\n",
       "       'poa_ground_diffuse'],\n",
       "      dtype='object')"
      ]
     },
     "execution_count": 5,
     "metadata": {},
     "output_type": "execute_result"
    }
   ],
   "source": [
    "df_poa.keys()"
   ]
  },
  {
   "cell_type": "markdown",
   "metadata": {},
   "source": [
    "### What angle should you tilt your modules at?"
   ]
  },
  {
   "cell_type": "markdown",
   "metadata": {},
   "source": [
    "[PVEducation Solar Radiation on a Tilted Surface](https://www.pveducation.org/pvcdrom/properties-of-sunlight/solar-radiation-on-a-tilted-surface)"
   ]
  },
  {
   "cell_type": "markdown",
   "metadata": {},
   "source": [
    "The total POA irradiance is called `poa_global` and is the one we'll focus on. Like the previous tutorial, let's visualize monthly irradiance to summarize the difference between the insolation received by a flat panel (GHI) and that of a tilted panel (POA):"
   ]
  },
  {
   "cell_type": "code",
   "execution_count": 6,
   "metadata": {},
   "outputs": [
    {
     "data": {
      "image/png": "[encoded data removed]",
      "text/plain": [
       "<Figure size 432x288 with 1 Axes>"
      ]
     },
     "metadata": {
      "needs_background": "light"
     },
     "output_type": "display_data"
    }
   ],
   "source": [
    "df = pd.DataFrame({\n",
    "    'ghi': df_tmy['GHI'],\n",
    "    'poa': df_poa['poa_global'],\n",
    "})\n",
    "df_monthly = df.resample('M').sum()\n",
    "df_monthly.plot.bar()\n",
    "plt.ylabel('Monthly Insolation [W h/m$^2$]');"
   ]
  },
  {
   "cell_type": "markdown",
   "metadata": {},
   "source": [
    "This plot shows that, compared with a flat array, a tilted array receives significantly more insolation in the winter.  However, it comes at the cost of slightly less insolation in the summer.  The difference is all about solar position -- tilting up from horizontal gives a better match to solar position in winter, when the sun is low in the sky.  However it gives a slightly worse match in summer when the sun is very high in the sky.\n",
    "\n",
    "As an example, here's a sunny day in winter vs a sunny day in summer.  Note that the daily profile doesn't just change its height, it also changes its width (summer POA is \"skinnier\" than GHI)."
   ]
  },
  {
   "cell_type": "code",
   "execution_count": 7,
   "metadata": {},
   "outputs": [
    {
     "data": {
      "image/png": "[encoded data removed]",
      "text/plain": [
       "<Figure size 432x288 with 1 Axes>"
      ]
     },
     "metadata": {
      "needs_background": "light"
     },
     "output_type": "display_data"
    }
   ],
   "source": [
    "df.loc['1990-01-15'].plot()\n",
    "plt.ylabel('Irradiance [W/m$^2$]');"
   ]
  },
  {
   "cell_type": "code",
   "execution_count": 8,
   "metadata": {},
   "outputs": [
    {
     "data": {
      "image/png": "[encoded data removed]",
      "text/plain": [
       "<Figure size 432x288 with 1 Axes>"
      ]
     },
     "metadata": {
      "needs_background": "light"
     },
     "output_type": "display_data"
    }
   ],
   "source": [
    "df.loc['1990-07-08'].plot()\n",
    "plt.ylabel('Irradiance [W/m$^2$]');"
   ]
  },
  {
   "cell_type": "markdown",
   "metadata": {},
   "source": [
    "The difference between GHI and POA is of course dependent on the tilt defining POA, but because it also depends on solar position, it varies from location to location.  Luckily, tools like pvlib make it easy to model!\n"
   ]
  },
  {
   "cell_type": "markdown",
   "metadata": {},
   "source": [
    "<a href='#step3'>"
   ]
  },
  {
   "cell_type": "markdown",
   "metadata": {},
   "source": [
    "## 3. Modeling POA for a tracking system\n",
    "\n",
    "The previous section calculated the transposition assuming a fixed array tilt and azimuth.  Now we'll do the same for a tracking array that follows the sun across the sky.  The most common type of tracking array is what's called a single-axis tracker (SAT) that rotates from East to West to follow the sun.  We can calculate the time-dependent orientation of a SAT array with pvlib:"
   ]
  },
  {
   "cell_type": "code",
   "execution_count": 9,
   "metadata": {},
   "outputs": [
    {
     "data": {
      "image/png": "[encoded data removed]",
      "text/plain": [
       "<Figure size 432x288 with 1 Axes>"
      ]
     },
     "metadata": {
      "needs_background": "light"
     },
     "output_type": "display_data"
    }
   ],
   "source": [
    "tracker_data = pvlib.tracking.singleaxis(\n",
    "    solar_position['apparent_zenith'],\n",
    "    solar_position['azimuth'],\n",
    "    axis_azimuth=180,  # axis is aligned N-S\n",
    "    )  # leave the rest of the singleaxis parameters like backtrack and gcr at their defaults\n",
    "tilt = tracker_data['surface_tilt'].fillna(0)\n",
    "azimuth = tracker_data['surface_azimuth'].fillna(0)\n",
    "\n",
    "# plot a day to illustrate:\n",
    "tracker_data['tracker_theta'].fillna(0).head(24).plot()\n",
    "plt.ylabel('Tracker Rotation [degrees]');"
   ]
  },
  {
   "cell_type": "markdown",
   "metadata": {},
   "source": [
    "This plot shows a single day of tracker operation.  The y-axis shows the tracker rotation from horizontal, so 0 degrees means the panels are flat.  In the morning, the trackers rotate to negative angles to face East towards the morning sun; in the afternoon they rotate to positive angles to face West towards the evening sun.  In the middle of the day, the trackers are flat because the sun is more or less overhead.\n",
    "\n",
    "Now we can model the irradiance collected by a tracking array -- we follow the same procedure as before, but using the timeseries tilt and azimuth this time:"
   ]
  },
  {
   "cell_type": "code",
   "execution_count": 10,
   "metadata": {},
   "outputs": [],
   "source": [
    "df_poa_tracker = pvlib.irradiance.get_total_irradiance(\n",
    "    surface_tilt=tilt,  # time series for tracking array\n",
    "    surface_azimuth=azimuth,  # time series for tracking array\n",
    "    dni=df_tmy['DNI'],\n",
    "    ghi=df_tmy['GHI'],\n",
    "    dhi=df_tmy['DHI'],\n",
    "    solar_zenith=solar_position['apparent_zenith'],\n",
    "    solar_azimuth=solar_position['azimuth'])\n",
    "tracker_poa = df_poa_tracker['poa_global']"
   ]
  },
  {
   "cell_type": "markdown",
   "metadata": {},
   "source": [
    "Like before, let's compare GHI and POA:"
   ]
  },
  {
   "cell_type": "code",
   "execution_count": 11,
   "metadata": {},
   "outputs": [
    {
     "data": {
      "image/png": "[encoded data removed]",
      "text/plain": [
       "<Figure size 432x288 with 1 Axes>"
      ]
     },
     "metadata": {
      "needs_background": "light"
     },
     "output_type": "display_data"
    }
   ],
   "source": [
    "df.loc['1990-01-15', 'ghi'].plot()\n",
    "tracker_poa.loc['1990-01-15'].plot()\n",
    "plt.legend()\n",
    "plt.ylabel('Irradiance [W/m$^2$]');"
   ]
  },
  {
   "cell_type": "markdown",
   "metadata": {},
   "source": [
    "Notice how different the daily profile is for the tracker array!  This is because the array can tilt steeply East and West to face towards the sun in early morning and late afternoon, meaning the edges of day get much higher irradiance than for a south-facing array.\n",
    "\n",
    "Note also that in the middle of the day, GHI and POA just touch each other -- this is because at solar noon, the array lies flat, and so POA is momentarily identical to GHI."
   ]
  },
  {
   "cell_type": "markdown",
   "metadata": {},
   "source": [
    "Note that the POA calculations discussed above do not address the partial blocking of diffuse light in arrays with multiple tilted rows of PV modules, so the results will be slightly (typically 1-3%) optimistic relative to real conditions or to commercial modeling software. Such corrections are likely to be added to pvlib in the future for specific generic geometries like fixed racks."
   ]
  },
  {
   "cell_type": "markdown",
   "metadata": {},
   "source": [
    "[![Creative Commons License](https://i.creativecommons.org/l/by/4.0/88x31.png)](http://creativecommons.org/licenses/by/4.0/)\n",
    "\n",
    "This work is licensed under a [Creative Commons Attribution 4.0 International License](http://creativecommons.org/licenses/by/4.0/)."
   ]
  }
 ],
 "metadata": {
  "kernelspec": {
   "display_name": "Python 3 (ipykernel)",
   "language": "python",
   "name": "python3"
  },
  "language_info": {
   "codemirror_mode": {
    "name": "ipython",
    "version": 3
   },
   "file_extension": ".py",
   "mimetype": "text/x-python",
   "name": "python",
   "nbconvert_exporter": "python",
   "pygments_lexer": "ipython3",
   "version": "3.9.12"
  }
 },
 "nbformat": 4,
 "nbformat_minor": 4
}
