{
 "cells": [
  {
   "cell_type": "markdown",
   "id": "8439c511",
   "metadata": {},
   "source": [
    "![tutorial banner](images/PVLib_PVPMCLogo.PNG)\n",
    "\n",
    "\n",
    "# PVPMC Problem Based Learning\n",
    "\n",
    "\n",
    "### Goal: Model energy loss due to high wind stowing.\n",
    "\n",
    "\n",
    "This is just one quick example of solution, there are other ways to achieve this!"
   ]
  },
  {
   "cell_type": "code",
   "execution_count": 12,
   "id": "41eba374",
   "metadata": {},
   "outputs": [
    {
     "name": "stdout",
     "output_type": "stream",
     "text": [
      "0.9.0\n"
     ]
    }
   ],
   "source": [
    "import pvlib\n",
    "import pandas as pd  # for data wrangling\n",
    "import matplotlib.pyplot as plt  # for visualization\n",
    "import pathlib  # for finding the example dataset\n",
    "import os\n",
    "\n",
    "print(pvlib.__version__)"
   ]
  },
  {
   "cell_type": "code",
   "execution_count": 14,
   "id": "d72ab8bf",
   "metadata": {},
   "outputs": [],
   "source": [
    "# during the live tutorial, we've stored a dedicated key on our server\n",
    "NREL_API_KEY=None\n",
    "\n",
    "if NREL_API_KEY is None:\n",
    "    try:\n",
    "        NREL_API_KEY = os.environ['NREL_API_KEY']  # get dedicated key for tutorial from servier\n",
    "    except KeyError:\n",
    "        NREL_API_KEY = 'DEMO_KEY'  # OK for this demo, but better to get your own key"
   ]
  },
  {
   "cell_type": "code",
   "execution_count": 15,
   "id": "136a3554",
   "metadata": {},
   "outputs": [
    {
     "data": {
      "text/plain": [
       "{'Source': 'NSRDB',\n",
       " 'Location ID': '615057',\n",
       " 'City': '-',\n",
       " 'State': '-',\n",
       " 'Country': '-',\n",
       " 'Latitude': 37.77,\n",
       " 'Longitude': -100.02,\n",
       " 'Time Zone': -6,\n",
       " 'Elevation': 794,\n",
       " 'Local Time Zone': -6,\n",
       " 'Dew Point Units': 'c',\n",
       " 'DHI Units': 'w/m2',\n",
       " 'DNI Units': 'w/m2',\n",
       " 'GHI Units': 'w/m2',\n",
       " 'Temperature Units': 'c',\n",
       " 'Pressure Units': 'mbar',\n",
       " 'Wind Direction Units': 'Degrees',\n",
       " 'Wind Speed Units': 'm/s',\n",
       " 'Surface Albedo Units': 'N/A',\n",
       " 'Version': '3.2.0'}"
      ]
     },
     "execution_count": 15,
     "metadata": {},
     "output_type": "execute_result"
    }
   ],
   "source": [
    "Dodge_Kansas, metadata = pvlib.iotools.get_psm3(\n",
    "    latitude=37.7528, longitude=-100.017,\n",
    "    api_key=NREL_API_KEY,\n",
    "    email='mark.mikofski@dnv.com',  # <-- any email works here fine\n",
    "    names='tmy')\n",
    "\n",
    "metadata"
   ]
  },
  {
   "cell_type": "code",
   "execution_count": 45,
   "id": "9e52cefb",
   "metadata": {},
   "outputs": [],
   "source": [
    "location = pvlib.location.Location(latitude=metadata['Latitude'],\n",
    "                                   longitude=metadata['Longitude'])\n",
    "\n",
    "times = df_tmy.index - pd.Timedelta('30min')\n",
    "solar_position = location.get_solarposition(times)\n",
    "solar_position.index += pd.Timedelta('30min')\n"
   ]
  },
  {
   "cell_type": "code",
   "execution_count": 79,
   "id": "6fd8830c",
   "metadata": {},
   "outputs": [],
   "source": [
    "tracking_angles = pvlib.tracking.singleaxis(\n",
    "    apparent_zenith=solar_position['apparent_zenith'],\n",
    "    apparent_azimuth=solar_position['azimuth'],\n",
    "    axis_tilt=0,\n",
    "    axis_azimuth=0,\n",
    "    max_angle=50,\n",
    "    backtrack=True,  # for true-tracking\n",
    "    gcr=0.5)  # irrelevant for true-tracking\n"
   ]
  },
  {
   "cell_type": "code",
   "execution_count": 47,
   "id": "db462553",
   "metadata": {},
   "outputs": [
    {
     "data": {
      "text/html": [
       "<div>\n",
       "<style scoped>\n",
       "    .dataframe tbody tr th:only-of-type {\n",
       "        vertical-align: middle;\n",
       "    }\n",
       "\n",
       "    .dataframe tbody tr th {\n",
       "        vertical-align: top;\n",
       "    }\n",
       "\n",
       "    .dataframe thead th {\n",
       "        text-align: right;\n",
       "    }\n",
       "</style>\n",
       "<table border=\"1\" class=\"dataframe\">\n",
       "  <thead>\n",
       "    <tr style=\"text-align: right;\">\n",
       "      <th></th>\n",
       "      <th>tracker_theta</th>\n",
       "      <th>aoi</th>\n",
       "      <th>surface_azimuth</th>\n",
       "      <th>surface_tilt</th>\n",
       "    </tr>\n",
       "  </thead>\n",
       "  <tbody>\n",
       "    <tr>\n",
       "      <th>1990-01-01 01:00:00-05:00</th>\n",
       "      <td>NaN</td>\n",
       "      <td>NaN</td>\n",
       "      <td>NaN</td>\n",
       "      <td>NaN</td>\n",
       "    </tr>\n",
       "    <tr>\n",
       "      <th>1990-01-01 02:00:00-05:00</th>\n",
       "      <td>NaN</td>\n",
       "      <td>NaN</td>\n",
       "      <td>NaN</td>\n",
       "      <td>NaN</td>\n",
       "    </tr>\n",
       "    <tr>\n",
       "      <th>1990-01-01 03:00:00-05:00</th>\n",
       "      <td>NaN</td>\n",
       "      <td>NaN</td>\n",
       "      <td>NaN</td>\n",
       "      <td>NaN</td>\n",
       "    </tr>\n",
       "    <tr>\n",
       "      <th>1990-01-01 04:00:00-05:00</th>\n",
       "      <td>NaN</td>\n",
       "      <td>NaN</td>\n",
       "      <td>NaN</td>\n",
       "      <td>NaN</td>\n",
       "    </tr>\n",
       "    <tr>\n",
       "      <th>1990-01-01 05:00:00-05:00</th>\n",
       "      <td>NaN</td>\n",
       "      <td>NaN</td>\n",
       "      <td>NaN</td>\n",
       "      <td>NaN</td>\n",
       "    </tr>\n",
       "    <tr>\n",
       "      <th>...</th>\n",
       "      <td>...</td>\n",
       "      <td>...</td>\n",
       "      <td>...</td>\n",
       "      <td>...</td>\n",
       "    </tr>\n",
       "    <tr>\n",
       "      <th>1990-12-31 20:00:00-05:00</th>\n",
       "      <td>NaN</td>\n",
       "      <td>NaN</td>\n",
       "      <td>NaN</td>\n",
       "      <td>NaN</td>\n",
       "    </tr>\n",
       "    <tr>\n",
       "      <th>1990-12-31 21:00:00-05:00</th>\n",
       "      <td>NaN</td>\n",
       "      <td>NaN</td>\n",
       "      <td>NaN</td>\n",
       "      <td>NaN</td>\n",
       "    </tr>\n",
       "    <tr>\n",
       "      <th>1990-12-31 22:00:00-05:00</th>\n",
       "      <td>NaN</td>\n",
       "      <td>NaN</td>\n",
       "      <td>NaN</td>\n",
       "      <td>NaN</td>\n",
       "    </tr>\n",
       "    <tr>\n",
       "      <th>1990-12-31 23:00:00-05:00</th>\n",
       "      <td>NaN</td>\n",
       "      <td>NaN</td>\n",
       "      <td>NaN</td>\n",
       "      <td>NaN</td>\n",
       "    </tr>\n",
       "    <tr>\n",
       "      <th>1991-01-01 00:00:00-05:00</th>\n",
       "      <td>NaN</td>\n",
       "      <td>NaN</td>\n",
       "      <td>NaN</td>\n",
       "      <td>NaN</td>\n",
       "    </tr>\n",
       "  </tbody>\n",
       "</table>\n",
       "<p>8760 rows × 4 columns</p>\n",
       "</div>"
      ],
      "text/plain": [
       "                           tracker_theta  aoi  surface_azimuth  surface_tilt\n",
       "1990-01-01 01:00:00-05:00            NaN  NaN              NaN           NaN\n",
       "1990-01-01 02:00:00-05:00            NaN  NaN              NaN           NaN\n",
       "1990-01-01 03:00:00-05:00            NaN  NaN              NaN           NaN\n",
       "1990-01-01 04:00:00-05:00            NaN  NaN              NaN           NaN\n",
       "1990-01-01 05:00:00-05:00            NaN  NaN              NaN           NaN\n",
       "...                                  ...  ...              ...           ...\n",
       "1990-12-31 20:00:00-05:00            NaN  NaN              NaN           NaN\n",
       "1990-12-31 21:00:00-05:00            NaN  NaN              NaN           NaN\n",
       "1990-12-31 22:00:00-05:00            NaN  NaN              NaN           NaN\n",
       "1990-12-31 23:00:00-05:00            NaN  NaN              NaN           NaN\n",
       "1991-01-01 00:00:00-05:00            NaN  NaN              NaN           NaN\n",
       "\n",
       "[8760 rows x 4 columns]"
      ]
     },
     "execution_count": 47,
     "metadata": {},
     "output_type": "execute_result"
    }
   ],
   "source": [
    "tracking_angles"
   ]
  },
  {
   "cell_type": "code",
   "execution_count": 52,
   "id": "7ebc6f61",
   "metadata": {},
   "outputs": [],
   "source": [
    "stowing_angle=0"
   ]
  },
  {
   "cell_type": "code",
   "execution_count": 56,
   "id": "78a89b34",
   "metadata": {},
   "outputs": [
    {
     "data": {
      "text/plain": [
       "[<matplotlib.lines.Line2D at 0x1ec9b422dc0>]"
      ]
     },
     "execution_count": 56,
     "metadata": {},
     "output_type": "execute_result"
    },
    {
     "data": {
      "image/png": "[encoded data removed]",
      "text/plain": [
       "<Figure size 432x288 with 1 Axes>"
      ]
     },
     "metadata": {
      "needs_background": "light"
     },
     "output_type": "display_data"
    }
   ],
   "source": [
    "plt.plot(df_tmy['Wspd'])#"
   ]
  },
  {
   "cell_type": "code",
   "execution_count": 60,
   "id": "78cdd3bf",
   "metadata": {},
   "outputs": [
    {
     "data": {
      "text/plain": [
       "[<matplotlib.lines.Line2D at 0x1ec9e664910>]"
      ]
     },
     "execution_count": 60,
     "metadata": {},
     "output_type": "execute_result"
    },
    {
     "data": {
      "image/png": "[encoded data removed]",
      "text/plain": [
       "<Figure size 432x288 with 1 Axes>"
      ]
     },
     "metadata": {
      "needs_background": "light"
     },
     "output_type": "display_data"
    }
   ],
   "source": [
    "plt.plot(df_tmy[df_tmy['Wspd']>6]['Wspd'])"
   ]
  },
  {
   "cell_type": "code",
   "execution_count": 63,
   "id": "87669563",
   "metadata": {},
   "outputs": [
    {
     "data": {
      "text/html": [
       "<div>\n",
       "<style scoped>\n",
       "    .dataframe tbody tr th:only-of-type {\n",
       "        vertical-align: middle;\n",
       "    }\n",
       "\n",
       "    .dataframe tbody tr th {\n",
       "        vertical-align: top;\n",
       "    }\n",
       "\n",
       "    .dataframe thead th {\n",
       "        text-align: right;\n",
       "    }\n",
       "</style>\n",
       "<table border=\"1\" class=\"dataframe\">\n",
       "  <thead>\n",
       "    <tr style=\"text-align: right;\">\n",
       "      <th></th>\n",
       "      <th>tracker_theta</th>\n",
       "      <th>aoi</th>\n",
       "      <th>surface_azimuth</th>\n",
       "      <th>surface_tilt</th>\n",
       "    </tr>\n",
       "  </thead>\n",
       "  <tbody>\n",
       "    <tr>\n",
       "      <th>1990-01-01 01:00:00-05:00</th>\n",
       "      <td>NaN</td>\n",
       "      <td>NaN</td>\n",
       "      <td>NaN</td>\n",
       "      <td>NaN</td>\n",
       "    </tr>\n",
       "    <tr>\n",
       "      <th>1990-01-01 11:00:00-05:00</th>\n",
       "      <td>22.497707</td>\n",
       "      <td>60.686921</td>\n",
       "      <td>90.0</td>\n",
       "      <td>22.497707</td>\n",
       "    </tr>\n",
       "    <tr>\n",
       "      <th>1990-01-04 23:00:00-05:00</th>\n",
       "      <td>NaN</td>\n",
       "      <td>NaN</td>\n",
       "      <td>NaN</td>\n",
       "      <td>NaN</td>\n",
       "    </tr>\n",
       "    <tr>\n",
       "      <th>1990-01-05 04:00:00-05:00</th>\n",
       "      <td>NaN</td>\n",
       "      <td>NaN</td>\n",
       "      <td>NaN</td>\n",
       "      <td>NaN</td>\n",
       "    </tr>\n",
       "    <tr>\n",
       "      <th>1990-01-05 11:00:00-05:00</th>\n",
       "      <td>22.324744</td>\n",
       "      <td>60.567332</td>\n",
       "      <td>90.0</td>\n",
       "      <td>22.324744</td>\n",
       "    </tr>\n",
       "    <tr>\n",
       "      <th>...</th>\n",
       "      <td>...</td>\n",
       "      <td>...</td>\n",
       "      <td>...</td>\n",
       "      <td>...</td>\n",
       "    </tr>\n",
       "    <tr>\n",
       "      <th>1990-12-28 22:00:00-05:00</th>\n",
       "      <td>NaN</td>\n",
       "      <td>NaN</td>\n",
       "      <td>NaN</td>\n",
       "      <td>NaN</td>\n",
       "    </tr>\n",
       "    <tr>\n",
       "      <th>1990-12-28 23:00:00-05:00</th>\n",
       "      <td>NaN</td>\n",
       "      <td>NaN</td>\n",
       "      <td>NaN</td>\n",
       "      <td>NaN</td>\n",
       "    </tr>\n",
       "    <tr>\n",
       "      <th>1990-12-29 00:00:00-05:00</th>\n",
       "      <td>NaN</td>\n",
       "      <td>NaN</td>\n",
       "      <td>NaN</td>\n",
       "      <td>NaN</td>\n",
       "    </tr>\n",
       "    <tr>\n",
       "      <th>1990-12-29 12:00:00-05:00</th>\n",
       "      <td>50.000000</td>\n",
       "      <td>51.658480</td>\n",
       "      <td>90.0</td>\n",
       "      <td>50.000000</td>\n",
       "    </tr>\n",
       "    <tr>\n",
       "      <th>1990-12-29 14:00:00-05:00</th>\n",
       "      <td>5.749148</td>\n",
       "      <td>60.861264</td>\n",
       "      <td>90.0</td>\n",
       "      <td>5.749148</td>\n",
       "    </tr>\n",
       "  </tbody>\n",
       "</table>\n",
       "<p>650 rows × 4 columns</p>\n",
       "</div>"
      ],
      "text/plain": [
       "                           tracker_theta        aoi  surface_azimuth  \\\n",
       "1990-01-01 01:00:00-05:00            NaN        NaN              NaN   \n",
       "1990-01-01 11:00:00-05:00      22.497707  60.686921             90.0   \n",
       "1990-01-04 23:00:00-05:00            NaN        NaN              NaN   \n",
       "1990-01-05 04:00:00-05:00            NaN        NaN              NaN   \n",
       "1990-01-05 11:00:00-05:00      22.324744  60.567332             90.0   \n",
       "...                                  ...        ...              ...   \n",
       "1990-12-28 22:00:00-05:00            NaN        NaN              NaN   \n",
       "1990-12-28 23:00:00-05:00            NaN        NaN              NaN   \n",
       "1990-12-29 00:00:00-05:00            NaN        NaN              NaN   \n",
       "1990-12-29 12:00:00-05:00      50.000000  51.658480             90.0   \n",
       "1990-12-29 14:00:00-05:00       5.749148  60.861264             90.0   \n",
       "\n",
       "                           surface_tilt  \n",
       "1990-01-01 01:00:00-05:00           NaN  \n",
       "1990-01-01 11:00:00-05:00     22.497707  \n",
       "1990-01-04 23:00:00-05:00           NaN  \n",
       "1990-01-05 04:00:00-05:00           NaN  \n",
       "1990-01-05 11:00:00-05:00     22.324744  \n",
       "...                                 ...  \n",
       "1990-12-28 22:00:00-05:00           NaN  \n",
       "1990-12-28 23:00:00-05:00           NaN  \n",
       "1990-12-29 00:00:00-05:00           NaN  \n",
       "1990-12-29 12:00:00-05:00     50.000000  \n",
       "1990-12-29 14:00:00-05:00      5.749148  \n",
       "\n",
       "[650 rows x 4 columns]"
      ]
     },
     "execution_count": 63,
     "metadata": {},
     "output_type": "execute_result"
    }
   ],
   "source": [
    "tracking_angles[df_tmy['Wspd']>6]"
   ]
  },
  {
   "cell_type": "code",
   "execution_count": 80,
   "id": "41ad0ba8",
   "metadata": {},
   "outputs": [],
   "source": [
    "smart_trackingdata=tracking_angles.copy()\n"
   ]
  },
  {
   "cell_type": "code",
   "execution_count": 81,
   "id": "d19a7a9e",
   "metadata": {},
   "outputs": [],
   "source": [
    "import numpy as np"
   ]
  },
  {
   "cell_type": "code",
   "execution_count": 106,
   "id": "1a67dbaa",
   "metadata": {},
   "outputs": [],
   "source": [
    "smart_trackingdata['tracker_theta'] = np.where(df_tmy['Wspd'] > 3, 0, smart_trackingdata['tracker_theta'])"
   ]
  },
  {
   "cell_type": "code",
   "execution_count": 83,
   "id": "dd9d3a06",
   "metadata": {},
   "outputs": [],
   "source": [
    "#tracking_angles.iloc[df_tmy['Wspd']>6]['tracker_theta']=0"
   ]
  },
  {
   "cell_type": "code",
   "execution_count": 84,
   "id": "a88941a2",
   "metadata": {},
   "outputs": [
    {
     "data": {
      "text/plain": [
       "1990-01-01 01:00:00-05:00          NaN\n",
       "1990-01-01 11:00:00-05:00    22.497707\n",
       "1990-01-04 23:00:00-05:00          NaN\n",
       "1990-01-05 04:00:00-05:00          NaN\n",
       "1990-01-05 11:00:00-05:00    22.324744\n",
       "                               ...    \n",
       "1990-12-28 22:00:00-05:00          NaN\n",
       "1990-12-28 23:00:00-05:00          NaN\n",
       "1990-12-29 00:00:00-05:00          NaN\n",
       "1990-12-29 12:00:00-05:00    50.000000\n",
       "1990-12-29 14:00:00-05:00     5.749148\n",
       "Name: tracker_theta, Length: 650, dtype: float64"
      ]
     },
     "execution_count": 84,
     "metadata": {},
     "output_type": "execute_result"
    }
   ],
   "source": [
    "tracking_angles[df_tmy['Wspd']>6]['tracker_theta']"
   ]
  },
  {
   "cell_type": "code",
   "execution_count": 85,
   "id": "4aff8f44",
   "metadata": {},
   "outputs": [
    {
     "data": {
      "text/plain": [
       "1990-01-01 01:00:00-05:00    0.0\n",
       "1990-01-01 11:00:00-05:00    0.0\n",
       "1990-01-04 23:00:00-05:00    0.0\n",
       "1990-01-05 04:00:00-05:00    0.0\n",
       "1990-01-05 11:00:00-05:00    0.0\n",
       "                            ... \n",
       "1990-12-28 22:00:00-05:00    0.0\n",
       "1990-12-28 23:00:00-05:00    0.0\n",
       "1990-12-29 00:00:00-05:00    0.0\n",
       "1990-12-29 12:00:00-05:00    0.0\n",
       "1990-12-29 14:00:00-05:00    0.0\n",
       "Name: tracker_theta, Length: 650, dtype: float64"
      ]
     },
     "execution_count": 85,
     "metadata": {},
     "output_type": "execute_result"
    }
   ],
   "source": [
    "smart_trackingdata[df_tmy['Wspd']>6]['tracker_theta']"
   ]
  },
  {
   "cell_type": "code",
   "execution_count": 53,
   "id": "aa968776",
   "metadata": {},
   "outputs": [
    {
     "data": {
      "text/plain": [
       "Index(['Date (MM/DD/YYYY)', 'Time (HH:MM)', 'ETR', 'ETRN', 'GHI', 'GHISource',\n",
       "       'GHIUncertainty', 'DNI', 'DNISource', 'DNIUncertainty', 'DHI',\n",
       "       'DHISource', 'DHIUncertainty', 'GHillum', 'GHillumSource',\n",
       "       'GHillumUncertainty', 'DNillum', 'DNillumSource', 'DNillumUncertainty',\n",
       "       'DHillum', 'DHillumSource', 'DHillumUncertainty', 'Zenithlum',\n",
       "       'ZenithlumSource', 'ZenithlumUncertainty', 'TotCld', 'TotCldSource',\n",
       "       'TotCldUncertainty', 'OpqCld', 'OpqCldSource', 'OpqCldUncertainty',\n",
       "       'DryBulb', 'DryBulbSource', 'DryBulbUncertainty', 'DewPoint',\n",
       "       'DewPointSource', 'DewPointUncertainty', 'RHum', 'RHumSource',\n",
       "       'RHumUncertainty', 'Pressure', 'PressureSource', 'PressureUncertainty',\n",
       "       'Wdir', 'WdirSource', 'WdirUncertainty', 'Wspd', 'WspdSource',\n",
       "       'WspdUncertainty', 'Hvis', 'HvisSource', 'HvisUncertainty', 'CeilHgt',\n",
       "       'CeilHgtSource', 'CeilHgtUncertainty', 'Pwat', 'PwatSource',\n",
       "       'PwatUncertainty', 'AOD', 'AODSource', 'AODUncertainty', 'Alb',\n",
       "       'AlbSource', 'AlbUncertainty', 'Lprecipdepth', 'Lprecipquantity',\n",
       "       'LprecipSource', 'LprecipUncertainty', 'PresWth', 'PresWthSource',\n",
       "       'PresWthUncertainty'],\n",
       "      dtype='object')"
      ]
     },
     "execution_count": 53,
     "metadata": {},
     "output_type": "execute_result"
    }
   ],
   "source": [
    "df_tmy.keys()"
   ]
  },
  {
   "cell_type": "code",
   "execution_count": 86,
   "id": "5080cb12",
   "metadata": {
    "scrolled": true
   },
   "outputs": [
    {
     "data": {
      "text/plain": [
       "[<matplotlib.lines.Line2D at 0x1ec9e732c70>]"
      ]
     },
     "execution_count": 86,
     "metadata": {},
     "output_type": "execute_result"
    },
    {
     "data": {
      "image/png": "[encoded data removed]",
      "text/plain": [
       "<Figure size 432x288 with 1 Axes>"
      ]
     },
     "metadata": {
      "needs_background": "light"
     },
     "output_type": "display_data"
    }
   ],
   "source": [
    "plt.plot(smart_trackingdata['surface_tilt'])"
   ]
  },
  {
   "cell_type": "code",
   "execution_count": 101,
   "id": "8e7e6a29",
   "metadata": {},
   "outputs": [],
   "source": [
    "parameters = pvlib.temperature.TEMPERATURE_MODEL_PARAMETERS['sapm']['open_rack_glass_polymer']\n",
    "cell_temperature = pvlib.temperature.sapm_cell(array_poa,\n",
    "                                               df_tmy['DryBulb'],\n",
    "                                               df_tmy['Wspd'],\n",
    "                                               **parameters)"
   ]
  },
  {
   "cell_type": "code",
   "execution_count": 102,
   "id": "93484bb4",
   "metadata": {},
   "outputs": [],
   "source": [
    "array_poa = pvlib.irradiance.get_total_irradiance(surface_tilt=tracking_angles['tracker_theta'],\n",
    "                                                       surface_azimuth=tracking_angles['surface_azimuth'],\n",
    "                                                       dni=df_tmy['DNI'],\n",
    "                                                       ghi=df_tmy['GHI'],\n",
    "                                                       dhi=df_tmy['DHI'],\n",
    "                                                       solar_zenith=solar_position['apparent_zenith'],\n",
    "                                                       solar_azimuth=solar_position['azimuth'])\n",
    "array_poa = array_poa['poa_global']  # Returns various irradiances; we will use the global value at plane of array.\n",
    "\n",
    "parameters = pvlib.temperature.TEMPERATURE_MODEL_PARAMETERS['sapm']['open_rack_glass_polymer']\n",
    "cell_temperature = pvlib.temperature.sapm_cell(array_poa,\n",
    "                                               df_tmy['DryBulb'],\n",
    "                                               df_tmy['Wspd'],\n",
    "                                               **parameters)\n",
    "\n",
    "gamma_pdc = -0.004  # divide by 100 to go from %/°C to 1/°C\n",
    "nameplate = 1000 # Watts\n",
    "\n",
    "array_power = pvlib.pvsystem.pvwatts_dc(array_poa, cell_temperature, nameplate, gamma_pdc)\n"
   ]
  },
  {
   "cell_type": "code",
   "execution_count": 103,
   "id": "6f26b0e2",
   "metadata": {},
   "outputs": [],
   "source": [
    "array_poa2 = pvlib.irradiance.get_total_irradiance(surface_tilt=smart_trackingdata['tracker_theta'],\n",
    "                                                       surface_azimuth=smart_trackingdata['surface_azimuth'],\n",
    "                                                       dni=df_tmy['DNI'],\n",
    "                                                       ghi=df_tmy['GHI'],\n",
    "                                                       dhi=df_tmy['DHI'],\n",
    "                                                       solar_zenith=solar_position['apparent_zenith'],\n",
    "                                                       solar_azimuth=solar_position['azimuth'])\n",
    "array_poa2 = array_poa2['poa_global']  # Returns various irradiances; we will use the global value at plane of array.\n",
    "\n",
    "\n",
    "gamma_pdc = -0.004  # divide by 100 to go from %/°C to 1/°C\n",
    "nameplate = 1000 # Watts\n",
    "\n",
    "\n",
    "parameters = pvlib.temperature.TEMPERATURE_MODEL_PARAMETERS['sapm']['open_rack_glass_polymer']\n",
    "cell_temperature2 = pvlib.temperature.sapm_cell(array_poa2,\n",
    "                                               df_tmy['DryBulb'],\n",
    "                                               df_tmy['Wspd'],\n",
    "                                               **parameters)\n",
    "\n",
    "\n",
    "\n",
    "array_power2 = pvlib.pvsystem.pvwatts_dc(array_poa2, cell_temperature2, nameplate, gamma_pdc)\n"
   ]
  },
  {
   "cell_type": "code",
   "execution_count": 110,
   "id": "6eab5d73",
   "metadata": {},
   "outputs": [
    {
     "data": {
      "text/plain": [
       "-0.3747064389180358"
      ]
     },
     "execution_count": 110,
     "metadata": {},
     "output_type": "execute_result"
    }
   ],
   "source": [
    "(array_power2.sum()-array_power.sum())*100/array_power.sum()"
   ]
  }
 ],
 "metadata": {
  "kernelspec": {
   "display_name": "Python 3 (ipykernel)",
   "language": "python",
   "name": "python3"
  },
  "language_info": {
   "codemirror_mode": {
    "name": "ipython",
    "version": 3
   },
   "file_extension": ".py",
   "mimetype": "text/x-python",
   "name": "python",
   "nbconvert_exporter": "python",
   "pygments_lexer": "ipython3",
   "version": "3.8.8"
  }
 },
 "nbformat": 4,
 "nbformat_minor": 5
}
