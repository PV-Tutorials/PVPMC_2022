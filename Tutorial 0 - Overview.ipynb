{
 "cells": [
  {
   "cell_type": "markdown",
   "metadata": {},
   "source": [
    "<img src=\"https://pvlib-python.readthedocs.io/en/stable/_images/pvlib_logo_horiz.png\" align=\"right\" width=\"30%\">\n",
    "\n",
    "# Introduction\n",
    "\n",
    "Welcome to the pvlib Tutorial.\n",
    "\n",
    "pvliby is a community supported tool that provides a set of functions and classes for simulating the performance of photovoltaic energy systems. \n",
    "\n",
    "pvlib introduces ............\n",
    "\n",
    "\n",
    "## Tutorial Setup\n",
    "\n",
    "This tutorial is designed to run on [Binder](https://mybinder.org/). This will\n",
    "allow you to run the turoial in the cloud without any additional setup. To get\n",
    "started, simply click\n",
    "[here](https://mybinder.org/v2/gh/xarray-contrib/xarray-tutorial/master?urlpath=lab):\n",
    "[![Binder](https://mybinder.org/badge_logo.svg)](https://mybinder.org/v2/gh/xarray-contrib/xarray-tutorial/master)\n",
    "\n",
    "If you choose to install the tutorial locally, follow these steps:\n",
    "\n",
    "1. Clone the repository:\n",
    "\n",
    "   ```\n",
    "   git clone https://github.com/mikofski/PVSC48-Python-Tutorial.git\n",
    "   ```\n",
    "\n",
    "1. Install the environment. The repository includes an `environment.yaml` in the\n",
    "   `.binder` subdirectory that contains a list of all the packages needed to run\n",
    "   this tutorial. To install them using conda run:\n",
    "\n",
    "   ```\n",
    "   conda env create -f .binder/environment.yml\n",
    "   conda activate pvlibenv\n",
    "   ```\n",
    "\n",
    "1. Start a Jupyter session:\n",
    "\n",
    "   ```\n",
    "   jupyter lab\n",
    "   ```\n",
    "\n",
    "## Useful links\n",
    "\n",
    "1. References\n",
    "\n",
    "- [Documentation](https://pvlib-python.readthedocs.io/en/stable/)\n",
    "- [Code Repository](https://github.com/pvlib/pvlib-python)\n",
    "\n",
    "1. Ask for help:\n",
    "\n",
    "- Use the\n",
    "  [pvlib-python](https://stackoverflow.com/questions/tagged/pvlib-python) on\n",
    "  StackOverflow\n",
    "- [GitHub Issues](https://github.com/pyvlib/pvlib-python/issues) for bug reports and\n",
    "  feature requests\n",
    "\n",
    "## Tutorial Structure\n",
    "\n",
    "This tutorial is made up of multiple Jupyter Notebooks. These notebooks mix\n",
    "code, text, visualization, and exercises.\n",
    "\n",
    "If you haven't used JupyterLab before, it's similar to the Jupyter Notebook. If\n",
    "you haven't used the Notebook, the quick intro is\n",
    "\n",
    "1. There are two modes: command and edit\n",
    "1. From command mode, press Enter to edit a cell (like this markdown cell)\n",
    "1. From edit mode, press Esc to change to command mode\n",
    "1. Press shift+enter to execute a cell and move to the next cell.\n",
    "1. The toolbar has commands for executing, converting, and creating cells.\n",
    "\n",
    "The layout of the tutorial will be as follows:\n",
    "\n",
    "1. [Introduction + Weater Data](Tutorial 1 - TMY Weather Data.ipynb)\n",
    "1. [Working with irradiance to calculate POA](Tutorial 2 - POA Irradiance.ipynb)\n",
    "1. [Calculate module temperature](Tutorial 3 - Module Temperature.ipynb)\n",
    "1. [Array Power](Tutorial 4 - Array Power.ipynb)\n",
    "\n",
    "\n",
    "## Exercise: Print Hello, world!\n",
    "\n",
    "Each notebook will have exercises for you to solve. You'll be given a blank or\n",
    "partially completed cell, followed by a hidden cell with a solution. For\n",
    "example.\n",
    "\n",
    "Print the text \"Hello, world!\".\n"
   ]
  },
  {
   "cell_type": "code",
   "execution_count": null,
   "metadata": {},
   "outputs": [],
   "source": [
    "# Your code here"
   ]
  },
  {
   "cell_type": "markdown",
   "metadata": {},
   "source": [
    "In some cases, the next cell will have the solution. Click the ellipses to\n",
    "expand the solution, and always make sure to run the solution cell, in case\n",
    "later sections of the notebook depend on the output from the solution.\n"
   ]
  },
  {
   "cell_type": "code",
   "execution_count": null,
   "metadata": {
    "jupyter": {
     "source_hidden": true
    }
   },
   "outputs": [],
   "source": [
    "print(\"Hello, world!\")"
   ]
  },
  {
   "cell_type": "markdown",
   "metadata": {},
   "source": [
    "## Going Deeper\n",
    "\n",
    "We've designed the notebooks above to cover the basics of pvlib from beginning\n",
    "to end. To help you go deeper, we've also create a list of notebooks that\n",
    "demonstrate real-world applications of pvlib in a variety of use cases. These\n",
    "need not be explored in any particular sequence, instead they are meant to\n",
    "provide a sampling of what pvlib can be used for.\n",
    "\n",
    "### PVLIB and Weather/Climate Model Data\n",
    "\n",
    "1. [Sun path diagram](https://pvlib-python.readthedocs.io/en/stable/auto_examples/index.html):\n",
    "   Start with `global_mean_surface_temp.ipynb` then feel free to explore the\n",
    "   rest of the notebooks.\n",
    "   <!-- 1. [Natural climate variability in the CESM Large Ensemble](https://aws-uswest2-binder.pangeo.io/v2/gh/NCAR/cesm-lens-aws/master?urlpath=lab) -->\n",
    "\n",
    "2. [SOMETHING ELSE HERE](https://google.com):\n",
    "    Write something here of another one of the tutorials.\n",
    "    <!-- 1. [something something](https://google.com) -->\n",
    "    \n",
    "### PVLIB and Satellite Data\n",
    "\n",
    "2. [SOMETHING ELSE HERE](https://google.com):\n",
    "    Write something here of another one of the tutorials.\n",
    "    <!-- 1. [something something](https://google.com) -->"
   ]
  },
  {
   "cell_type": "code",
   "execution_count": null,
   "metadata": {},
   "outputs": [],
   "source": []
  }
 ],
 "metadata": {
  "kernelspec": {
   "display_name": "Python 3",
   "language": "python",
   "name": "python3"
  },
  "language_info": {
   "codemirror_mode": {
    "name": "ipython",
    "version": 3
   },
   "file_extension": ".py",
   "mimetype": "text/x-python",
   "name": "python",
   "nbconvert_exporter": "python",
   "pygments_lexer": "ipython3",
   "version": "3.7.3"
  }
 },
 "nbformat": 4,
 "nbformat_minor": 4
}
